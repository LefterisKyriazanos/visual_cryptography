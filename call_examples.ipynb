{
 "cells": [
  {
   "cell_type": "code",
   "execution_count": null,
   "metadata": {},
   "outputs": [],
   "source": [
    "!python visual_cryptography.py -d dec_image_c1.txt enc_laughing_smiley_bw_0_c1.txt enc_laughing_smiley_bw_1_c1.txtenc_laughing_smiley_bw_2_c1.txt"
   ]
  },
  {
   "cell_type": "code",
   "execution_count": 20,
   "metadata": {},
   "outputs": [
    {
     "name": "stdout",
     "output_type": "stream",
     "text": [
      "Namespace(c='c1', d=None, filenames=['laughing_smiley_bw.txt'], r=None, s=4)\n",
      "exported  enc_laughing_smiley_bw_0_c1.txt\n",
      "exported  enc_laughing_smiley_bw_1_c1.txt\n",
      "exported  enc_laughing_smiley_bw_2_c1.txt\n",
      "exported  enc_laughing_smiley_bw_3_c1.txt\n"
     ]
    }
   ],
   "source": [
    "!python visual_cryptography.py -s 4 laughing_smiley_bw.txt"
   ]
  },
  {
   "cell_type": "code",
   "execution_count": 21,
   "metadata": {},
   "outputs": [
    {
     "name": "stdout",
     "output_type": "stream",
     "text": [
      "Namespace(c='c1', d=None, filenames=['laughing_smiley_bw.txt'], r=23, s=4)\n"
     ]
    },
    {
     "name": "stdout",
     "output_type": "stream",
     "text": [
      "exported  enc_laughing_smiley_bw_0_c1.txt\n",
      "exported  enc_laughing_smiley_bw_1_c1.txt\n",
      "exported  enc_laughing_smiley_bw_2_c1.txt\n",
      "exported  enc_laughing_smiley_bw_3_c1.txt\n"
     ]
    }
   ],
   "source": [
    "!python visual_cryptography.py -s 4 -r 23 laughing_smiley_bw.txt"
   ]
  },
  {
   "cell_type": "markdown",
   "metadata": {},
   "source": [
    "### Encrypt with c2 and k=3\n"
   ]
  },
  {
   "cell_type": "code",
   "execution_count": 23,
   "metadata": {},
   "outputs": [
    {
     "name": "stdout",
     "output_type": "stream",
     "text": [
      "Namespace(c='c2', d=None, filenames=['laughing_smiley_bw.txt'], r=23, s=6)\n",
      "exported  enc_laughing_smiley_bw_0_c2.txt\n",
      "exported  enc_laughing_smiley_bw_1_c2.txt\n",
      "exported  enc_laughing_smiley_bw_2_c2.txt\n",
      "exported  enc_laughing_smiley_bw_3_c2.txt\n",
      "exported  enc_laughing_smiley_bw_4_c2.txt\n",
      "exported  enc_laughing_smiley_bw_5_c2.txt\n"
     ]
    }
   ],
   "source": [
    "!python visual_cryptography.py -c c2 -s 6 -r 23 laughing_smiley_bw.txt"
   ]
  },
  {
   "cell_type": "markdown",
   "metadata": {},
   "source": [
    "### decrypt c1 with k = 3"
   ]
  },
  {
   "cell_type": "code",
   "execution_count": 87,
   "metadata": {},
   "outputs": [
    {
     "name": "stdout",
     "output_type": "stream",
     "text": [
      "Namespace(c='c1', d='dec_image_c1.txt', filenames=['enc_image_0_3_c1.txt', 'enc_image_1_3_c1.txt', 'enc_image_2_3_c1.txt'], r=None, s=None)\n",
      "['enc_image_0_3_c1.txt', 'enc_image_1_3_c1.txt', 'enc_image_2_3_c1.txt']\n",
      "dec_image_c1.txt\n",
      "exported  dec_image_c1.txt\n"
     ]
    }
   ],
   "source": [
    "!python visual_cryptography.py -d dec_image_c1.txt enc_image_0_3_c1.txt enc_image_1_3_c1.txt enc_image_2_3_c1.txt"
   ]
  },
  {
   "cell_type": "markdown",
   "metadata": {},
   "source": [
    "### decrypt c1 with k = 4 "
   ]
  },
  {
   "cell_type": "code",
   "execution_count": 90,
   "metadata": {},
   "outputs": [
    {
     "name": "stdout",
     "output_type": "stream",
     "text": [
      "Namespace(c='c1', d='dec_image_c1.txt', filenames=['enc_image_0_4_c1.txt', 'enc_image_1_4_c1.txt', 'enc_image_2_4_c1.txt', 'enc_image_3_4_c1.txt'], r=None, s=None)\n",
      "['enc_image_0_4_c1.txt', 'enc_image_1_4_c1.txt', 'enc_image_2_4_c1.txt', 'enc_image_3_4_c1.txt']\n",
      "dec_image_c1.txt\n",
      "exported  dec_image_c1.txt\n"
     ]
    }
   ],
   "source": [
    "!python visual_cryptography.py -d dec_image_c1.txt enc_image_0_4_c1.txt enc_image_1_4_c1.txt enc_image_2_4_c1.txt enc_image_3_4_c1.txt"
   ]
  },
  {
   "cell_type": "code",
   "execution_count": null,
   "metadata": {},
   "outputs": [],
   "source": [
    "# c1 with k = 5\n",
    "!python visual_cryptography.py -d dec_image_c1.txt enc_image_0_5_c1.txt enc_image_1_5_c1.txt enc_image_2_5_c1.txt enc_image_3_5_c1.txt enc_image_4_5_c1.txt"
   ]
  },
  {
   "cell_type": "markdown",
   "metadata": {},
   "source": [
    "### decrypt c2 with k = 3"
   ]
  },
  {
   "cell_type": "code",
   "execution_count": 64,
   "metadata": {},
   "outputs": [
    {
     "name": "stdout",
     "output_type": "stream",
     "text": [
      "Namespace(c='c1', d='dec_image_c2.txt', filenames=['enc_image_0_3_c2.txt', 'enc_image_1_3_c2.txt', 'enc_image_2_3_c2.txt'], r=None, s=None)\n",
      "['enc_image_0_3_c2.txt', 'enc_image_1_3_c2.txt', 'enc_image_2_3_c2.txt']\n",
      "dec_image_c2.txt\n"
     ]
    }
   ],
   "source": [
    "!python visual_cryptography.py -d dec_image_c2.txt enc_image_0_3_c2.txt enc_image_1_3_c2.txt enc_image_2_3_c2.txt"
   ]
  },
  {
   "cell_type": "markdown",
   "metadata": {},
   "source": [
    "### decrypt c2 with k = 4 "
   ]
  },
  {
   "cell_type": "code",
   "execution_count": 58,
   "metadata": {},
   "outputs": [
    {
     "name": "stdout",
     "output_type": "stream",
     "text": [
      "Namespace(c='c1', d='dec_image_c2.txt', filenames=['enc_image_0_4_c2.txt', 'enc_image_1_4_c2.txt', 'enc_image_2_4_c2.txt', 'enc_image_3_4_c2.txt'], r=None, s=None)\n",
      "['enc_image_0_4_c2.txt', 'enc_image_1_4_c2.txt', 'enc_image_2_4_c2.txt', 'enc_image_3_4_c2.txt']\n",
      "dec_image_c2.txt\n"
     ]
    }
   ],
   "source": [
    "!python visual_cryptography.py -d dec_image_c2.txt enc_image_0_4_c2.txt enc_image_1_4_c2.txt enc_image_2_4_c2.txt enc_image_3_4_c2.txt"
   ]
  },
  {
   "cell_type": "markdown",
   "metadata": {},
   "source": [
    "### Decryption"
   ]
  },
  {
   "cell_type": "markdown",
   "metadata": {},
   "source": [
    "if you see smiley decryption works"
   ]
  },
  {
   "cell_type": "code",
   "execution_count": 84,
   "metadata": {},
   "outputs": [
    {
     "name": "stdout",
     "output_type": "stream",
     "text": [
      "Namespace(c='c1', d='dec_image_c1_1.txt', filenames=['enc_laughing_smiley_bw_0_c1.txt', 'enc_laughing_smiley_bw_1_c1.txt', 'enc_laughing_smiley_bw_2_c1.txt', 'enc_laughing_smiley_bw_3_c1.txt'], r=None, s=None)\n",
      "['enc_laughing_smiley_bw_0_c1.txt', 'enc_laughing_smiley_bw_1_c1.txt', 'enc_laughing_smiley_bw_2_c1.txt', 'enc_laughing_smiley_bw_3_c1.txt']\n",
      "dec_image_c1_1.txt\n",
      "exported  dec_image_c1_1.txt\n"
     ]
    }
   ],
   "source": [
    "! python visual_cryptography.py -d dec_image_c1_1.txt enc_laughing_smiley_bw_0_c1.txt enc_laughing_smiley_bw_1_c1.txt enc_laughing_smiley_bw_2_c1.txt enc_laughing_smiley_bw_3_c1.txt"
   ]
  },
  {
   "cell_type": "code",
   "execution_count": 83,
   "metadata": {},
   "outputs": [
    {
     "name": "stdout",
     "output_type": "stream",
     "text": [
      "Namespace(c='c1', d='dec_image_c2_2.txt', filenames=['enc_laughing_smiley_bw_0_c2.txt', 'enc_laughing_smiley_bw_1_c2.txt', 'enc_laughing_smiley_bw_2_c2.txt'], r=None, s=None)\n",
      "['enc_laughing_smiley_bw_0_c2.txt', 'enc_laughing_smiley_bw_1_c2.txt', 'enc_laughing_smiley_bw_2_c2.txt']\n",
      "dec_image_c2_2.txt\n",
      "exported  dec_image_c2_2.txt\n"
     ]
    }
   ],
   "source": [
    "! python visual_cryptography.py -d dec_image_c2_2.txt enc_laughing_smiley_bw_0_c2.txt enc_laughing_smiley_bw_1_c2.txt enc_laughing_smiley_bw_2_c2.txt enc_laughing_smiley_bw_3_c2.txt enc_laughing_smiley_bw_4_c2.txt enc_laughing_smiley_bw_5_c2.txt"
   ]
  }
 ],
 "metadata": {
  "kernelspec": {
   "display_name": "base",
   "language": "python",
   "name": "python3"
  },
  "language_info": {
   "codemirror_mode": {
    "name": "ipython",
    "version": 3
   },
   "file_extension": ".py",
   "mimetype": "text/x-python",
   "name": "python",
   "nbconvert_exporter": "python",
   "pygments_lexer": "ipython3",
   "version": "3.8.8"
  },
  "orig_nbformat": 4
 },
 "nbformat": 4,
 "nbformat_minor": 2
}
